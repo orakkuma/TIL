{
 "cells": [
  {
   "cell_type": "code",
   "execution_count": 1,
   "id": "ae7db32a-028f-4114-9ef4-58c873e4ea89",
   "metadata": {},
   "outputs": [],
   "source": [
    "# 201\n",
    "def bitcoin():\n",
    "    print('비트코인')"
   ]
  },
  {
   "cell_type": "code",
   "execution_count": 2,
   "id": "060952a9-1dc9-4031-8a53-8ed0c0547348",
   "metadata": {},
   "outputs": [
    {
     "data": {
      "text/plain": [
       "<function __main__.bitcoin()>"
      ]
     },
     "execution_count": 2,
     "metadata": {},
     "output_type": "execute_result"
    }
   ],
   "source": [
    "# 202\n",
    "bitcoin"
   ]
  },
  {
   "cell_type": "code",
   "execution_count": 4,
   "id": "58477c2a-1cec-4958-a0b6-7fbba9a51714",
   "metadata": {
    "scrolled": true
   },
   "outputs": [
    {
     "name": "stdout",
     "output_type": "stream",
     "text": [
      "비트코인\n",
      "비트코인\n",
      "비트코인\n",
      "비트코인\n",
      "비트코인\n",
      "비트코인\n",
      "비트코인\n",
      "비트코인\n",
      "비트코인\n",
      "비트코인\n",
      "비트코인\n",
      "비트코인\n",
      "비트코인\n",
      "비트코인\n",
      "비트코인\n",
      "비트코인\n",
      "비트코인\n",
      "비트코인\n",
      "비트코인\n",
      "비트코인\n",
      "비트코인\n",
      "비트코인\n",
      "비트코인\n",
      "비트코인\n",
      "비트코인\n",
      "비트코인\n",
      "비트코인\n",
      "비트코인\n",
      "비트코인\n",
      "비트코인\n",
      "비트코인\n",
      "비트코인\n",
      "비트코인\n",
      "비트코인\n",
      "비트코인\n",
      "비트코인\n",
      "비트코인\n",
      "비트코인\n",
      "비트코인\n",
      "비트코인\n",
      "비트코인\n",
      "비트코인\n",
      "비트코인\n",
      "비트코인\n",
      "비트코인\n",
      "비트코인\n",
      "비트코인\n",
      "비트코인\n",
      "비트코인\n",
      "비트코인\n",
      "비트코인\n",
      "비트코인\n",
      "비트코인\n",
      "비트코인\n",
      "비트코인\n",
      "비트코인\n",
      "비트코인\n",
      "비트코인\n",
      "비트코인\n",
      "비트코인\n",
      "비트코인\n",
      "비트코인\n",
      "비트코인\n",
      "비트코인\n",
      "비트코인\n",
      "비트코인\n",
      "비트코인\n",
      "비트코인\n",
      "비트코인\n",
      "비트코인\n",
      "비트코인\n",
      "비트코인\n",
      "비트코인\n",
      "비트코인\n",
      "비트코인\n",
      "비트코인\n",
      "비트코인\n",
      "비트코인\n",
      "비트코인\n",
      "비트코인\n",
      "비트코인\n",
      "비트코인\n",
      "비트코인\n",
      "비트코인\n",
      "비트코인\n",
      "비트코인\n",
      "비트코인\n",
      "비트코인\n",
      "비트코인\n",
      "비트코인\n",
      "비트코인\n",
      "비트코인\n",
      "비트코인\n",
      "비트코인\n",
      "비트코인\n",
      "비트코인\n",
      "비트코인\n",
      "비트코인\n",
      "비트코인\n",
      "비트코인\n"
     ]
    }
   ],
   "source": [
    "# 203\n",
    "for i in range(100):\n",
    "    bitcoin()"
   ]
  },
  {
   "cell_type": "code",
   "execution_count": 5,
   "id": "17e4ba3f-6877-46b7-b5cd-1d14fb017ede",
   "metadata": {},
   "outputs": [],
   "source": [
    "# 204\n",
    "def bitcoin():\n",
    "    for i in range(100):\n",
    "        print('비트코인')"
   ]
  },
  {
   "cell_type": "code",
   "execution_count": 7,
   "id": "10578063-d9f3-44a0-bb20-86f708683418",
   "metadata": {},
   "outputs": [
    {
     "name": "stdout",
     "output_type": "stream",
     "text": [
      "A\n",
      "C\n",
      "B\n",
      "E\n",
      "D\n"
     ]
    }
   ],
   "source": [
    "# 207\n",
    "print(\"A\")\n",
    "def message1() :\n",
    "    print(\"B\")\n",
    "print(\"C\")\n",
    "def message2() :\n",
    "    print(\"D\")\n",
    "message1()\n",
    "print(\"E\")\n",
    "message2()\n"
   ]
  },
  {
   "cell_type": "code",
   "execution_count": 9,
   "id": "6114aea4-34bd-437e-868f-50625328cc96",
   "metadata": {},
   "outputs": [
    {
     "name": "stdout",
     "output_type": "stream",
     "text": [
      "B\n",
      "A\n"
     ]
    }
   ],
   "source": [
    "# 209\n",
    "def message1():\n",
    "    print(\"A\")\n",
    "\n",
    "def message2():\n",
    "    print(\"B\")\n",
    "    message1()\n",
    "\n",
    "message2()\n",
    "\n"
   ]
  },
  {
   "cell_type": "code",
   "execution_count": 11,
   "id": "ea8292f8-b667-4bbe-8684-bf3bd5fe0b6d",
   "metadata": {},
   "outputs": [
    {
     "name": "stdout",
     "output_type": "stream",
     "text": [
      "B\n",
      "C\n",
      "B\n",
      "C\n",
      "B\n",
      "C\n",
      "A\n"
     ]
    }
   ],
   "source": [
    "# 210\n",
    "def message1():\n",
    "    print(\"A\")\n",
    "\n",
    "def message2():\n",
    "    print(\"B\")\n",
    "\n",
    "def message3():\n",
    "    for i in range (3) :\n",
    "        message2()\n",
    "        print(\"C\")\n",
    "    message1()\n",
    "\n",
    "message3()\n"
   ]
  },
  {
   "cell_type": "code",
   "execution_count": 12,
   "id": "bc97b038-8592-41fb-b2a2-dbb7d2d36ff1",
   "metadata": {},
   "outputs": [
    {
     "name": "stdout",
     "output_type": "stream",
     "text": [
      "안녕\n",
      "Hi\n"
     ]
    }
   ],
   "source": [
    "def 함수(문자열) :\n",
    "    print(문자열)\n",
    "\n",
    "함수(\"안녕\")\n",
    "함수(\"Hi\")"
   ]
  },
  {
   "cell_type": "code",
   "execution_count": 13,
   "id": "1e04b624-49fa-4d2e-a411-883248a9d974",
   "metadata": {},
   "outputs": [
    {
     "name": "stdout",
     "output_type": "stream",
     "text": [
      "안녕하이\n"
     ]
    }
   ],
   "source": [
    "def 함수(a, b) :\n",
    "    print(a + b)\n",
    "\n",
    "함수(\"안녕\", '하이')"
   ]
  },
  {
   "cell_type": "code",
   "execution_count": 14,
   "id": "6a38213a-7215-4670-b671-71a04f7ad93a",
   "metadata": {},
   "outputs": [
    {
     "name": "stdout",
     "output_type": "stream",
     "text": [
      "사랑합니다:D\n"
     ]
    }
   ],
   "source": [
    "# 215\n",
    "def smile(char):\n",
    "    print(char + ':D')\n",
    "\n",
    "smile('사랑합니다')"
   ]
  },
  {
   "cell_type": "code",
   "execution_count": 15,
   "id": "a6ae26e6-d885-4d6d-bb1c-18946780a8eb",
   "metadata": {},
   "outputs": [
    {
     "name": "stdout",
     "output_type": "stream",
     "text": [
      "1601783613.3\n"
     ]
    }
   ],
   "source": [
    "# 217\n",
    "def print_upper_price(integer):\n",
    "    print(integer * 1.3)\n",
    "\n",
    "print_upper_price(1232141241)"
   ]
  },
  {
   "cell_type": "code",
   "execution_count": 16,
   "id": "7b67b098-8c0b-41a8-9785-c7eb6c14fa4c",
   "metadata": {},
   "outputs": [
    {
     "name": "stdout",
     "output_type": "stream",
     "text": [
      "10\n"
     ]
    }
   ],
   "source": [
    "# 218\n",
    "def print_sum(a, b):\n",
    "    print(a + b)\n",
    "\n",
    "print_sum(4, 6)"
   ]
  },
  {
   "cell_type": "code",
   "execution_count": 18,
   "id": "e52c4c0e-cefd-4c52-a2bf-5902c8df9180",
   "metadata": {},
   "outputs": [],
   "source": [
    "# 220\n",
    "def print_max(a, b, c):\n",
    "    if a > b and b > c:\n",
    "        print(a)\n",
    "    elif c > b and b > a:\n",
    "        print(c)\n",
    "    elif b > a and a > c:\n",
    "        print(b)\n",
    "        "
   ]
  },
  {
   "cell_type": "code",
   "execution_count": 21,
   "id": "87d645ca-5ffb-486e-8516-7a665d588f44",
   "metadata": {},
   "outputs": [
    {
     "data": {
      "text/plain": [
       "'nohtyp'"
      ]
     },
     "execution_count": 21,
     "metadata": {},
     "output_type": "execute_result"
    }
   ],
   "source": [
    "# 221\n",
    "def print_reverse(chars):\n",
    "    result = ''\n",
    "    for i in range(len(chars)):\n",
    "        result += chars[len(chars) - 1 - i]\n",
    "    return result\n",
    "\n",
    "print_reverse('python')\n",
    "\n",
    "# def print_reverse(string) :\n",
    "#     print(string[::-1])\n"
   ]
  },
  {
   "cell_type": "code",
   "execution_count": 23,
   "id": "bcf6bf71-3bf6-43bd-b662-37de4f12ea53",
   "metadata": {},
   "outputs": [
    {
     "name": "stdout",
     "output_type": "stream",
     "text": [
      "2\n",
      "10\n",
      "12\n"
     ]
    }
   ],
   "source": [
    "# 223\n",
    "def evens(list):\n",
    "    for num in list:\n",
    "        if num % 2 == 0:\n",
    "            print(num)\n",
    "\n",
    "evens([1, 3, 2, 10, 12, 11, 15])"
   ]
  },
  {
   "cell_type": "code",
   "execution_count": 28,
   "id": "dd4394fe-1d2d-41df-b307-44309c54aa60",
   "metadata": {},
   "outputs": [
    {
     "name": "stdout",
     "output_type": "stream",
     "text": [
      "이름\n",
      "나이\n",
      "성별\n"
     ]
    }
   ],
   "source": [
    "# 224\n",
    "def print_keys(dict):\n",
    "    for key, value in dict.items():\n",
    "        print(key)\n",
    "\n",
    "print_keys ({\"이름\":\"김말똥\", \"나이\":30, \"성별\":0})\n",
    "\n",
    "# def print_keys(dic):\n",
    "#     for keys in dic.keys():\n",
    "#         print(keys)\n"
   ]
  },
  {
   "cell_type": "code",
   "execution_count": 39,
   "id": "03cadca6-0713-4362-96c9-2cdd516a2baa",
   "metadata": {},
   "outputs": [
    {
     "name": "stdout",
     "output_type": "stream",
     "text": [
      "[100, 130, 100, 100]\n"
     ]
    }
   ],
   "source": [
    "# 225\n",
    "my_dict = {\"10/26\" : [100, 130, 100, 100],\n",
    "           \"10/27\" : [10, 12, 10, 11]}\n",
    "\n",
    "def print_value_by_key(my_dict, key):\n",
    "    print(my_dict[key])\n",
    "\n",
    "print_value_by_key  (my_dict, \"10/26\")"
   ]
  },
  {
   "cell_type": "code",
   "execution_count": 40,
   "id": "ce6d042a-4afe-48c8-b17a-e19fca94f521",
   "metadata": {},
   "outputs": [
    {
     "name": "stdout",
     "output_type": "stream",
     "text": [
      "[100, 130, 100, 100]\n"
     ]
    }
   ],
   "source": [
    "def print_value_by_key(my_dict, date):\n",
    "    if date in my_dict:\n",
    "        return my_dict[date]\n",
    "    else:\n",
    "        return \"해당 날짜의 값이 딕셔너리에 없습니다.\"\n",
    "\n",
    "result = print_value_by_key(my_dict, \"10/26\")\n",
    "print(result)\n"
   ]
  },
  {
   "cell_type": "code",
   "execution_count": 42,
   "id": "af36ddc1-b684-427c-8cf1-e3d30080ee94",
   "metadata": {},
   "outputs": [
    {
     "name": "stdout",
     "output_type": "stream",
     "text": [
      "아이엠어보\n",
      "이유알어걸\n"
     ]
    }
   ],
   "source": [
    "# 226\n",
    "def print_5xn(string):\n",
    "    for i in range(0, len(string), 5):\n",
    "        print(string[i:i+5])\n",
    "\n",
    "print_5xn(\"아이엠어보이유알어걸\")\n"
   ]
  },
  {
   "cell_type": "code",
   "execution_count": 44,
   "id": "08dc2e8a-a9d0-4360-92cf-bf8f793b5ef8",
   "metadata": {},
   "outputs": [
    {
     "name": "stdout",
     "output_type": "stream",
     "text": [
      "아이엠\n",
      "어보이\n",
      "유알어\n",
      "걸\n"
     ]
    }
   ],
   "source": [
    "# 227\n",
    "def printmxn(string, num):\n",
    "    for i in range(0, len(string), num):\n",
    "        print(string[i:i+num])\n",
    "\n",
    "printmxn(\"아이엠어보이유알어걸\", 3)\n"
   ]
  },
  {
   "cell_type": "code",
   "execution_count": 45,
   "id": "3b293fa7-8679-4785-bdb6-9cce0bd20865",
   "metadata": {},
   "outputs": [
    {
     "name": "stdout",
     "output_type": "stream",
     "text": [
      "1000000\n"
     ]
    }
   ],
   "source": [
    "# 228\n",
    "\n",
    "def calc_monthly_salary(annual_salary):\n",
    "    print(int(annual_salary / 12))\n",
    "\n",
    "calc_monthly_salary(12000000)\n"
   ]
  },
  {
   "cell_type": "code",
   "execution_count": 46,
   "id": "d5cea5c9-a3ae-42e7-8467-b2dfbc3b4007",
   "metadata": {},
   "outputs": [
    {
     "name": "stdout",
     "output_type": "stream",
     "text": [
      "www.naver.com\n"
     ]
    }
   ],
   "source": [
    "# 232\n",
    "\n",
    "def make_url(string):\n",
    "    print('www.'+string+'.com')\n",
    "\n",
    "make_url('naver')"
   ]
  },
  {
   "cell_type": "code",
   "execution_count": 51,
   "id": "7050221e-0a20-4f24-95f7-5bbe8e094965",
   "metadata": {},
   "outputs": [
    {
     "data": {
      "text/plain": [
       "['a', 'b', 'c', 'd']"
      ]
     },
     "execution_count": 51,
     "metadata": {},
     "output_type": "execute_result"
    }
   ],
   "source": [
    "# 234\n",
    "\n",
    "def make_list(string):\n",
    "    result = []\n",
    "    for i in range(len(string)):\n",
    "        result.append(string[i])\n",
    "    return result\n",
    "\n",
    "make_list('abcd')"
   ]
  },
  {
   "cell_type": "code",
   "execution_count": 53,
   "id": "7d865aea-03e5-4351-b444-39cdddd82de9",
   "metadata": {},
   "outputs": [
    {
     "data": {
      "text/plain": [
       "[4, 6, 8]"
      ]
     },
     "execution_count": 53,
     "metadata": {},
     "output_type": "execute_result"
    }
   ],
   "source": [
    "# 234\n",
    "def pickup_even(list):\n",
    "    result = []\n",
    "    for i in range(len(list)):\n",
    "        if list[i] % 2 == 0:\n",
    "            result.append(list[i])\n",
    "\n",
    "    return result\n",
    "\n",
    "pickup_even([3, 4, 5, 6, 7, 8])\n",
    "\n",
    "# def pickup_even(items):\n",
    "#     result = []\n",
    "#     for item in items:\n",
    "#         if item % 2 == 0:\n",
    "#             result.append(item)\n",
    "#     return result\n"
   ]
  },
  {
   "cell_type": "code",
   "execution_count": 57,
   "id": "d1c80661-0fde-41ac-81da-591ad0d32418",
   "metadata": {},
   "outputs": [
    {
     "data": {
      "text/plain": [
       "1234567"
      ]
     },
     "execution_count": 57,
     "metadata": {},
     "output_type": "execute_result"
    }
   ],
   "source": [
    "# 235\n",
    "def convert_int(string):\n",
    "    num_list = string.split(',')\n",
    "    numbers = ''\n",
    "    for num in num_list:\n",
    "        numbers += num\n",
    "\n",
    "    return int(numbers)\n",
    "\n",
    "convert_int(\"1,234,567\")\n",
    "\n",
    "\n",
    "# def convert_int (string) :\n",
    "#     return int(string.replace(',', ''))\n"
   ]
  }
 ],
 "metadata": {
  "kernelspec": {
   "display_name": "Python 3 (ipykernel)",
   "language": "python",
   "name": "python3"
  },
  "language_info": {
   "codemirror_mode": {
    "name": "ipython",
    "version": 3
   },
   "file_extension": ".py",
   "mimetype": "text/x-python",
   "name": "python",
   "nbconvert_exporter": "python",
   "pygments_lexer": "ipython3",
   "version": "3.11.7"
  }
 },
 "nbformat": 4,
 "nbformat_minor": 5
}
