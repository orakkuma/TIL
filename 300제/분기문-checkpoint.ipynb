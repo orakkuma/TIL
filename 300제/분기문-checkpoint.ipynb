{
 "cells": [
  {
   "cell_type": "code",
   "execution_count": 1,
   "id": "727249f2-5535-48fa-8585-9fe62a8a53d1",
   "metadata": {},
   "outputs": [
    {
     "name": "stdin",
     "output_type": "stream",
     "text": [
      " aa\n"
     ]
    },
    {
     "name": "stdout",
     "output_type": "stream",
     "text": [
      "aaaa\n"
     ]
    }
   ],
   "source": [
    "user = input()\n",
    "print(user * 2)"
   ]
  },
  {
   "cell_type": "code",
   "execution_count": 3,
   "id": "609cfa6b-2393-4f64-b65f-7cfaa8da7175",
   "metadata": {},
   "outputs": [
    {
     "name": "stdin",
     "output_type": "stream",
     "text": [
      " 20\n"
     ]
    },
    {
     "name": "stdout",
     "output_type": "stream",
     "text": [
      "30\n"
     ]
    }
   ],
   "source": [
    "inputs = int(input())\n",
    "print(inputs + 10)"
   ]
  },
  {
   "cell_type": "code",
   "execution_count": 4,
   "id": "386e6af1-ebc3-4a3e-831f-beb7c063e549",
   "metadata": {},
   "outputs": [
    {
     "name": "stdin",
     "output_type": "stream",
     "text": [
      " 1923857189342751\n"
     ]
    },
    {
     "name": "stdout",
     "output_type": "stream",
     "text": [
      "odd number\n"
     ]
    }
   ],
   "source": [
    "nums = int(input())\n",
    "if nums % 2:\n",
    "    print('odd number')\n",
    "else:\n",
    "    print('even number')"
   ]
  },
  {
   "cell_type": "code",
   "execution_count": 5,
   "id": "b5d278df-c002-4a22-9ba9-8e87107e75fd",
   "metadata": {},
   "outputs": [
    {
     "name": "stdin",
     "output_type": "stream",
     "text": [
      " 399\n"
     ]
    },
    {
     "name": "stdout",
     "output_type": "stream",
     "text": [
      "255\n"
     ]
    }
   ],
   "source": [
    "nums = int(input())\n",
    "re_nums = nums + 10\n",
    "if re_nums <= 255:\n",
    "    print(re_nums)\n",
    "else:\n",
    "    print(255)"
   ]
  },
  {
   "cell_type": "code",
   "execution_count": 7,
   "id": "38763bd0-d704-4fa5-a437-6be8e7300370",
   "metadata": {},
   "outputs": [
    {
     "name": "stdin",
     "output_type": "stream",
     "text": [
      "현재시간:  910\n"
     ]
    },
    {
     "name": "stdout",
     "output_type": "stream",
     "text": [
      "정각이 아닙니다.\n"
     ]
    }
   ],
   "source": [
    "# 117\n",
    "time = input(\"현재시간: \")\n",
    "if time[-2:] == \"00\":\n",
    "    print(\"정각 입니다.\")\n",
    "else:\n",
    "    print(\"정각이 아닙니다.\")"
   ]
  },
  {
   "cell_type": "code",
   "execution_count": 11,
   "id": "47d3d9c4-814e-406a-80bf-f3a87b460a45",
   "metadata": {},
   "outputs": [
    {
     "name": "stdin",
     "output_type": "stream",
     "text": [
      " cokacola\n"
     ]
    },
    {
     "name": "stdout",
     "output_type": "stream",
     "text": [
      "not warn list\n"
     ]
    }
   ],
   "source": [
    "# 118\n",
    "lists = input()\n",
    "warn_investment_list = [\"Microsoft\", \"Google\", \"Naver\", \"Kakao\", \"SAMSUNG\", \"LG\"]\n",
    "if lists == char:\n",
    "    print('warn list')\n",
    "else:\n",
    "    print('not warn list')"
   ]
  },
  {
   "cell_type": "code",
   "execution_count": 17,
   "id": "3e7c1478-c915-4c52-be0a-508511a8c95f",
   "metadata": {},
   "outputs": [
    {
     "name": "stdin",
     "output_type": "stream",
     "text": [
      " d\n"
     ]
    },
    {
     "name": "stdout",
     "output_type": "stream",
     "text": [
      "incorrect\n"
     ]
    }
   ],
   "source": [
    "#119\n",
    "fruit = {\"봄\" : \"딸기\", \"여름\" : \"토마토\", \"가을\" : \"사과\"}\n",
    "char = input()\n",
    "if char in list(fruit.keys()):\n",
    "    print('correct')\n",
    "else:\n",
    "    print('incorrect')"
   ]
  },
  {
   "cell_type": "code",
   "execution_count": 18,
   "id": "e8c34527-d170-41f5-a653-3c8f06fea2f9",
   "metadata": {},
   "outputs": [
    {
     "name": "stdin",
     "output_type": "stream",
     "text": [
      " d\n"
     ]
    },
    {
     "name": "stdout",
     "output_type": "stream",
     "text": [
      "incorrect\n"
     ]
    }
   ],
   "source": [
    "#120\n",
    "fruits = input()\n",
    "if fruits in list(fruit.values()):\n",
    "    print('correct')\n",
    "else:\n",
    "    print('incorrect')"
   ]
  },
  {
   "cell_type": "code",
   "execution_count": 22,
   "id": "7923d95c-d405-4e1c-93fd-48b8e9157230",
   "metadata": {},
   "outputs": [
    {
     "name": "stdin",
     "output_type": "stream",
     "text": [
      " a\n"
     ]
    },
    {
     "name": "stdout",
     "output_type": "stream",
     "text": [
      "A\n"
     ]
    }
   ],
   "source": [
    "# 121\n",
    "char = input('')\n",
    "if char.islower():\n",
    "    print(char.upper())\n",
    "else:\n",
    "    print(char)"
   ]
  },
  {
   "cell_type": "code",
   "execution_count": 37,
   "id": "f166ac3d-8942-423a-a20c-b59f09d6f043",
   "metadata": {},
   "outputs": [
    {
     "name": "stdin",
     "output_type": "stream",
     "text": [
      " 100 ekffj\n"
     ]
    }
   ],
   "source": [
    "#123\n",
    "money = input()\n",
    "num, symbol = money.split(' ')\n",
    "\n",
    "if symbol == '달러':\n",
    "    print(float(num) * 1167, '원')\n",
    "elif symbol== '엔':\n",
    "    print(float(num) * 1.096, '원')\n",
    "elif symbol== '유로':\n",
    "    print(flaot(num) * 1268, '원')\n",
    "elif symbol== '위안':\n",
    "    print(float(num) * 171, '원')\n",
    "\n",
    "# 환율 = {\"달러\": 1167, \n",
    "#         \"엔\": 1.096, \n",
    "#         \"유로\": 1268, \n",
    "#         \"위안\": 171}\n",
    "# user = input(\"입력: \")\n",
    "# num, currency = user.split()\n",
    "# print(float(num) * 환율[currency], \"원\")\n"
   ]
  },
  {
   "cell_type": "code",
   "execution_count": 38,
   "id": "95b6f73c-63cd-4681-88ca-168f502a8495",
   "metadata": {},
   "outputs": [
    {
     "data": {
      "text/plain": [
       "str"
      ]
     },
     "execution_count": 38,
     "metadata": {},
     "output_type": "execute_result"
    }
   ],
   "source": [
    "type(money)"
   ]
  },
  {
   "cell_type": "code",
   "execution_count": 34,
   "id": "32964c31-14a6-49f1-a209-d6fc3023e9cf",
   "metadata": {},
   "outputs": [
    {
     "name": "stdin",
     "output_type": "stream",
     "text": [
      " 10\n",
      " 9\n",
      " 20\n"
     ]
    },
    {
     "name": "stdout",
     "output_type": "stream",
     "text": [
      "20\n"
     ]
    }
   ],
   "source": [
    "# 124\n",
    "num1 = int(input())\n",
    "num2 = int(input())\n",
    "num3 = int(input())\n",
    "\n",
    "max_num = max(num1, num2, num3)\n",
    "print(max_num)\n",
    "\n",
    "# if num1 >= num2 and num1 >= num3:\n",
    "#     print(num1)\n",
    "# elif num2 >= num1 and num2 >= num3:\n",
    "#     print(num2)\n",
    "# else:\n",
    "#     print(num3)"
   ]
  },
  {
   "cell_type": "code",
   "execution_count": 39,
   "id": "fc73c236-7b11-4d3e-a21c-10231940d922",
   "metadata": {},
   "outputs": [
    {
     "name": "stdin",
     "output_type": "stream",
     "text": [
      " 011-234-1822\n"
     ]
    },
    {
     "name": "stdout",
     "output_type": "stream",
     "text": [
      "skt\n"
     ]
    }
   ],
   "source": [
    "# 125\n",
    "phone_num = input()\n",
    "telecom, middle, last = phone_num.split('-')\n",
    "if telecom == '011':\n",
    "    print('skt')\n",
    "elif telecom == '016':\n",
    "    print('kt')\n",
    "elif telecom == '019':\n",
    "    print('lgu')\n",
    "else:\n",
    "    print(\"don't know\")"
   ]
  },
  {
   "cell_type": "code",
   "execution_count": 45,
   "id": "dd5a15ea-8628-4aed-8c1f-7edfb73aad9b",
   "metadata": {},
   "outputs": [
    {
     "name": "stdin",
     "output_type": "stream",
     "text": [
      " 01500\n"
     ]
    },
    {
     "name": "stdout",
     "output_type": "stream",
     "text": [
      "도봉구\n"
     ]
    }
   ],
   "source": [
    "num = input()\n",
    "city = num[2]\n",
    "if city in ['0', '1', '2']:\n",
    "    print('강북구')\n",
    "elif city in ['3', '4', '5']:\n",
    "    print('도봉구')\n",
    "elif city in ['6', '7', '8', '9']:\n",
    "    print('노원구')"
   ]
  },
  {
   "cell_type": "code",
   "execution_count": 46,
   "id": "982b763d-8a6d-4134-80a6-7fb3b45d0a1b",
   "metadata": {},
   "outputs": [
    {
     "name": "stdin",
     "output_type": "stream",
     "text": [
      " 821010-1635210\n"
     ]
    },
    {
     "name": "stdout",
     "output_type": "stream",
     "text": [
      "male\n"
     ]
    }
   ],
   "source": [
    "#127\n",
    "nums = input()\n",
    "sex = nums.split('-')[1][0]\n",
    "if sex in ['1', '3']:\n",
    "    print('male')\n",
    "else:\n",
    "    print('female')"
   ]
  },
  {
   "cell_type": "code",
   "execution_count": 50,
   "id": "84494313-b5ea-481a-a6a4-651fed25925c",
   "metadata": {},
   "outputs": [
    {
     "name": "stdin",
     "output_type": "stream",
     "text": [
      " 861010-1015210\n"
     ]
    },
    {
     "name": "stdout",
     "output_type": "stream",
     "text": [
      "Seoul\n"
     ]
    }
   ],
   "source": [
    "#128\n",
    "nums = input()\n",
    "city_code = nums.split('-')[1][1:3]\n",
    "if city_code in ['00', '01', '02', '03', '04', '05', '06', '07', '08']:\n",
    "    print('Seoul')\n",
    "elif city_code in ['09', '10', '11', '12']:\n",
    "    print(\"Busan\")\n",
    "else:\n",
    "    print(\"I don't know\")"
   ]
  },
  {
   "cell_type": "code",
   "execution_count": 55,
   "id": "c6031ea7-58a0-4d2e-9e46-3390d89933ce",
   "metadata": {},
   "outputs": [
    {
     "name": "stdin",
     "output_type": "stream",
     "text": [
      " 960516-1698423\n"
     ]
    },
    {
     "name": "stdout",
     "output_type": "stream",
     "text": [
      "유효\n"
     ]
    }
   ],
   "source": [
    "# 129\n",
    "nums = input()\n",
    "front, back = nums.split('-')\n",
    "n1 = int(front[0]) * 2\n",
    "n2 = int(front[1]) * 3\n",
    "n3 = int(front[2]) * 4\n",
    "n4 = int(front[3]) * 5\n",
    "n5 = int(front[4]) * 6\n",
    "n6 = int(front[5]) * 7\n",
    "\n",
    "b1 = int(back[0]) * 8\n",
    "b2 = int(back[1]) * 9\n",
    "b3 = int(back[2]) * 2\n",
    "b4 = int(back[3]) * 3\n",
    "b5 = int(back[4]) * 4\n",
    "b6 = int(back[5]) * 5\n",
    "\n",
    "step1 = (n1 + n2 + n3 + n4 + n5 + n6 + b1 + b2 + b3 + b4 + b5 + b6)\n",
    "step2 = step1 % 11\n",
    "result = str(11 - step2)\n",
    "if result == back[-1]:\n",
    "    print('유효')\n",
    "else:\n",
    "    print('유효하지 않는 주민등록번호')"
   ]
  },
  {
   "cell_type": "code",
   "execution_count": 58,
   "id": "3a789a32-5e29-497c-9c8f-b1ba00a6330a",
   "metadata": {
    "scrolled": true
   },
   "outputs": [
    {
     "ename": "TypeError",
     "evalue": "dict.values() takes no arguments (1 given)",
     "output_type": "error",
     "traceback": [
      "\u001b[1;31m---------------------------------------------------------------------------\u001b[0m",
      "\u001b[1;31mTypeError\u001b[0m                                 Traceback (most recent call last)",
      "Cell \u001b[1;32mIn[58], line 5\u001b[0m\n\u001b[0;32m      2\u001b[0m \u001b[38;5;28;01mimport\u001b[39;00m \u001b[38;5;21;01mrequests\u001b[39;00m\n\u001b[0;32m      3\u001b[0m btc \u001b[38;5;241m=\u001b[39m requests\u001b[38;5;241m.\u001b[39mget(\u001b[38;5;124m\"\u001b[39m\u001b[38;5;124mhttps://api.bithumb.com/public/ticker/\u001b[39m\u001b[38;5;124m\"\u001b[39m)\u001b[38;5;241m.\u001b[39mjson()[\u001b[38;5;124m'\u001b[39m\u001b[38;5;124mdata\u001b[39m\u001b[38;5;124m'\u001b[39m]\n\u001b[1;32m----> 5\u001b[0m gap \u001b[38;5;241m=\u001b[39m \u001b[38;5;28mint\u001b[39m(\u001b[43mbtc\u001b[49m\u001b[38;5;241;43m.\u001b[39;49m\u001b[43mvalues\u001b[49m\u001b[43m(\u001b[49m\u001b[38;5;124;43m'\u001b[39;49m\u001b[38;5;124;43mmax_price\u001b[39;49m\u001b[38;5;124;43m'\u001b[39;49m\u001b[43m)\u001b[49m) \u001b[38;5;241m-\u001b[39m \u001b[38;5;28mint\u001b[39m(btc\u001b[38;5;241m.\u001b[39mvalues(\u001b[38;5;124m'\u001b[39m\u001b[38;5;124mmin_price\u001b[39m\u001b[38;5;124m'\u001b[39m))\n\u001b[0;32m      6\u001b[0m \u001b[38;5;28;01mif\u001b[39;00m (\u001b[38;5;28mint\u001b[39m(btc\u001b[38;5;241m.\u001b[39mvalues(\u001b[38;5;124m'\u001b[39m\u001b[38;5;124mclosing_price\u001b[39m\u001b[38;5;124m'\u001b[39m)) \u001b[38;5;241m+\u001b[39m gap) \u001b[38;5;241m>\u001b[39m \u001b[38;5;28mint\u001b[39m(max_price):\n\u001b[0;32m      7\u001b[0m     \u001b[38;5;28mprint\u001b[39m(\u001b[38;5;124m'\u001b[39m\u001b[38;5;124m상승장\u001b[39m\u001b[38;5;124m'\u001b[39m)\n",
      "\u001b[1;31mTypeError\u001b[0m: dict.values() takes no arguments (1 given)"
     ]
    }
   ],
   "source": [
    "# 130\n",
    "import requests\n",
    "btc = requests.get(\"https://api.bithumb.com/public/ticker/\").json()['data']\n",
    "\n",
    "gap = int(btc.values('max_price')) - int(btc.values('min_price'))\n",
    "if (int(btc.values('closing_price')) + gap) > int(max_price):\n",
    "    print('상승장')\n",
    "else:\n",
    "    print('하락장')"
   ]
  }
 ],
 "metadata": {
  "kernelspec": {
   "display_name": "Python 3 (ipykernel)",
   "language": "python",
   "name": "python3"
  },
  "language_info": {
   "codemirror_mode": {
    "name": "ipython",
    "version": 3
   },
   "file_extension": ".py",
   "mimetype": "text/x-python",
   "name": "python",
   "nbconvert_exporter": "python",
   "pygments_lexer": "ipython3",
   "version": "3.11.7"
  }
 },
 "nbformat": 4,
 "nbformat_minor": 5
}
