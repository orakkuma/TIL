{
 "cells": [
  {
   "cell_type": "code",
   "execution_count": 83,
   "id": "995def43-3b8d-4f5a-abf1-ad32a5f75036",
   "metadata": {},
   "outputs": [
    {
     "name": "stdout",
     "output_type": "stream",
     "text": [
      "110\n",
      "210\n",
      "310\n"
     ]
    }
   ],
   "source": [
    "# 141\n",
    "리스트 = [100, 200, 300]\n",
    "for char in 리스트:\n",
    "    print(int(char) + 10)"
   ]
  },
  {
   "cell_type": "code",
   "execution_count": 84,
   "id": "899fcd35-91ac-4dea-bc13-6e5a97e333e3",
   "metadata": {},
   "outputs": [
    {
     "name": "stdout",
     "output_type": "stream",
     "text": [
      "6\n",
      "4\n",
      "4\n"
     ]
    }
   ],
   "source": [
    "#143\n",
    "리스트 = [\"SK하이닉스\", \"삼성전자\", \"LG전자\"]\n",
    "for char in 리스트:\n",
    "    print(len(char))"
   ]
  },
  {
   "cell_type": "code",
   "execution_count": 87,
   "id": "441917c6-3d09-4129-9e7b-1a93a95940f9",
   "metadata": {},
   "outputs": [
    {
     "name": "stdout",
     "output_type": "stream",
     "text": [
      "dog 3\n",
      "cat 3\n",
      "parrot 6\n"
     ]
    }
   ],
   "source": [
    "# 144\n",
    "list = ['dog', 'cat', 'parrot']\n",
    "\n",
    "for char in list:\n",
    "    print(char, len(char))"
   ]
  },
  {
   "cell_type": "code",
   "execution_count": 88,
   "id": "6b005a4c-6f1d-49fc-a6fb-c8d68af16d77",
   "metadata": {},
   "outputs": [
    {
     "name": "stdout",
     "output_type": "stream",
     "text": [
      "d\n",
      "c\n",
      "p\n"
     ]
    }
   ],
   "source": [
    "# 145\n",
    "list = ['dog', 'cat', 'parrot']\n",
    "\n",
    "for char in list:\n",
    "    print(char[0])"
   ]
  },
  {
   "cell_type": "code",
   "execution_count": 92,
   "id": "0f187f5d-fdbb-4f33-9d5a-7177b98eadeb",
   "metadata": {},
   "outputs": [
    {
     "name": "stdout",
     "output_type": "stream",
     "text": [
      "3 x 1\n",
      "3 x 2\n",
      "3 x 3\n"
     ]
    }
   ],
   "source": [
    "#146\n",
    "list = [1, 2, 3]\n",
    "\n",
    "for char in list:\n",
    "    print('3 x',char)"
   ]
  },
  {
   "cell_type": "code",
   "execution_count": 94,
   "id": "4e0e729b-0c64-4e14-a864-bcbe2a209019",
   "metadata": {},
   "outputs": [
    {
     "name": "stdout",
     "output_type": "stream",
     "text": [
      "나\n",
      "다\n",
      "라\n"
     ]
    }
   ],
   "source": [
    "# 147\n",
    "list = [\"가\", \"나\", \"다\", \"라\"]\n",
    "for char in list[1:]:\n",
    "    print(char)\n",
    "    "
   ]
  },
  {
   "cell_type": "code",
   "execution_count": 95,
   "id": "45e0e6df-6caf-41b8-92a2-02972cd0a01e",
   "metadata": {},
   "outputs": [
    {
     "name": "stdout",
     "output_type": "stream",
     "text": [
      "가\n",
      "다\n"
     ]
    }
   ],
   "source": [
    "for char in list[0:3:2]:\n",
    "    print(char)"
   ]
  },
  {
   "cell_type": "code",
   "execution_count": 97,
   "id": "8c69144f-a8c3-4927-80a7-b7b9030f8a0e",
   "metadata": {},
   "outputs": [
    {
     "name": "stdout",
     "output_type": "stream",
     "text": [
      "라\n",
      "다\n",
      "나\n",
      "가\n"
     ]
    }
   ],
   "source": [
    "for char in list[::-1]:\n",
    "    print(char)"
   ]
  },
  {
   "cell_type": "code",
   "execution_count": 101,
   "id": "0bc7adc7-52a1-4e4d-95f7-ded73d359445",
   "metadata": {},
   "outputs": [
    {
     "name": "stdout",
     "output_type": "stream",
     "text": [
      "-20\n",
      "-3\n"
     ]
    }
   ],
   "source": [
    "# 151\n",
    "list = [3, -20, -3, 44]\n",
    "for char in list:\n",
    "    if (char) < 0:\n",
    "        print(char)"
   ]
  },
  {
   "cell_type": "code",
   "execution_count": 102,
   "id": "e068d795-3ef6-4c04-8d74-b8146b8b7e8b",
   "metadata": {},
   "outputs": [
    {
     "name": "stdout",
     "output_type": "stream",
     "text": [
      "3\n"
     ]
    }
   ],
   "source": [
    "# 152\n",
    "list = [3, 100, 23, 44]\n",
    "for num in list:\n",
    "    if num % 3 == 0:\n",
    "        print(num)"
   ]
  },
  {
   "cell_type": "code",
   "execution_count": 103,
   "id": "182f0bb2-2ebc-4b3b-97b3-612404cc0aa6",
   "metadata": {},
   "outputs": [
    {
     "name": "stdout",
     "output_type": "stream",
     "text": [
      "12\n",
      "18\n"
     ]
    }
   ],
   "source": [
    "# 153\n",
    "list = [13, 21, 12, 14, 30, 18]\n",
    "for num in list:\n",
    "    if num % 3 == 0:\n",
    "        if num < 20:\n",
    "            print(num)"
   ]
  },
  {
   "cell_type": "code",
   "execution_count": 104,
   "id": "65050aa2-2482-4827-9d36-68f122041291",
   "metadata": {},
   "outputs": [
    {
     "name": "stdout",
     "output_type": "stream",
     "text": [
      "study\n",
      "python\n",
      "language\n"
     ]
    }
   ],
   "source": [
    "# 154\n",
    "list = [\"I\", \"study\", \"python\", \"language\", \"!\"]\n",
    "for char in list:\n",
    "    if len(char) >= 3:\n",
    "        print(char)"
   ]
  },
  {
   "cell_type": "code",
   "execution_count": 105,
   "id": "f51947d5-e074-4884-a2e6-e6a1cabf26c1",
   "metadata": {},
   "outputs": [
    {
     "name": "stdout",
     "output_type": "stream",
     "text": [
      "A\n",
      "D\n"
     ]
    }
   ],
   "source": [
    "# 155\n",
    "list = [\"A\", \"b\", \"c\", \"D\"]\n",
    "for char in list:\n",
    "    if char.isupper():\n",
    "        print(char)"
   ]
  },
  {
   "cell_type": "code",
   "execution_count": 106,
   "id": "7f22f91c-d3e5-46b3-9e5a-3b90baa4fb9f",
   "metadata": {},
   "outputs": [
    {
     "name": "stdout",
     "output_type": "stream",
     "text": [
      "b\n",
      "c\n"
     ]
    }
   ],
   "source": [
    "# 156\n",
    "list = [\"A\", \"b\", \"c\", \"D\"]\n",
    "for char in list:\n",
    "    if char.islower():\n",
    "        print(char)"
   ]
  },
  {
   "cell_type": "code",
   "execution_count": 117,
   "id": "7567a914-b3ff-4e22-97e5-0138cff996c0",
   "metadata": {},
   "outputs": [
    {
     "name": "stdout",
     "output_type": "stream",
     "text": [
      "Dog\n",
      "Cat\n",
      "Parrot\n"
     ]
    }
   ],
   "source": [
    "# 157\n",
    "list = ['dog', 'cat', 'parrot']\n",
    "for chars in list:\n",
    "    first = chars[0]\n",
    "    large = first.upper()\n",
    "    print(large+chars[1:])"
   ]
  },
  {
   "cell_type": "code",
   "execution_count": 118,
   "id": "b48fc176-4902-4620-8195-63f6c9a7cef4",
   "metadata": {},
   "outputs": [
    {
     "name": "stdout",
     "output_type": "stream",
     "text": [
      "hello\n",
      "ex01\n",
      "intro\n"
     ]
    }
   ],
   "source": [
    "list = ['hello.py', 'ex01.py', 'intro.hwp']\n",
    "for char in list:\n",
    "    name, file = char.split('.')\n",
    "    print(name)"
   ]
  },
  {
   "cell_type": "code",
   "execution_count": 119,
   "id": "519b5f85-6ff8-4aa3-91ad-ab69efd95180",
   "metadata": {},
   "outputs": [
    {
     "name": "stdout",
     "output_type": "stream",
     "text": [
      "intra.h\n",
      "define.h\n"
     ]
    }
   ],
   "source": [
    "# 159\n",
    "list = ['intra.h', 'intra.c', 'define.h', 'run.py']\n",
    "\n",
    "for char in list:\n",
    "    name, file = char.split('.')\n",
    "    if file == 'h':\n",
    "        print(char)"
   ]
  },
  {
   "cell_type": "code",
   "execution_count": 122,
   "id": "5a9ec272-2246-404f-bdf9-b9f3cf0c7b71",
   "metadata": {},
   "outputs": [
    {
     "name": "stdout",
     "output_type": "stream",
     "text": [
      "intra.h\n",
      "intra.c\n",
      "define.h\n"
     ]
    }
   ],
   "source": [
    "# 160\n",
    "list = ['intra.h', 'intra.c', 'define.h', 'run.py']\n",
    "\n",
    "for char in list:\n",
    "    name, file = char.split('.')\n",
    "    if file == 'h' or file == 'c':\n",
    "        print(char)"
   ]
  },
  {
   "cell_type": "code",
   "execution_count": 123,
   "id": "fa56f22d-fdb7-4ce9-983c-13dcdb8051b6",
   "metadata": {},
   "outputs": [
    {
     "name": "stdout",
     "output_type": "stream",
     "text": [
      "0\n",
      "1\n",
      "2\n",
      "3\n",
      "4\n",
      "5\n",
      "6\n",
      "7\n",
      "8\n",
      "9\n",
      "10\n",
      "11\n",
      "12\n",
      "13\n",
      "14\n",
      "15\n",
      "16\n",
      "17\n",
      "18\n",
      "19\n",
      "20\n",
      "21\n",
      "22\n",
      "23\n",
      "24\n",
      "25\n",
      "26\n",
      "27\n",
      "28\n",
      "29\n",
      "30\n",
      "31\n",
      "32\n",
      "33\n",
      "34\n",
      "35\n",
      "36\n",
      "37\n",
      "38\n",
      "39\n",
      "40\n",
      "41\n",
      "42\n",
      "43\n",
      "44\n",
      "45\n",
      "46\n",
      "47\n",
      "48\n",
      "49\n",
      "50\n",
      "51\n",
      "52\n",
      "53\n",
      "54\n",
      "55\n",
      "56\n",
      "57\n",
      "58\n",
      "59\n",
      "60\n",
      "61\n",
      "62\n",
      "63\n",
      "64\n",
      "65\n",
      "66\n",
      "67\n",
      "68\n",
      "69\n",
      "70\n",
      "71\n",
      "72\n",
      "73\n",
      "74\n",
      "75\n",
      "76\n",
      "77\n",
      "78\n",
      "79\n",
      "80\n",
      "81\n",
      "82\n",
      "83\n",
      "84\n",
      "85\n",
      "86\n",
      "87\n",
      "88\n",
      "89\n",
      "90\n",
      "91\n",
      "92\n",
      "93\n",
      "94\n",
      "95\n",
      "96\n",
      "97\n",
      "98\n",
      "99\n"
     ]
    }
   ],
   "source": [
    "# 161\n",
    "for char in range(100):\n",
    "    print(char)"
   ]
  },
  {
   "cell_type": "code",
   "execution_count": 127,
   "id": "060e877a-f7eb-40b9-9ab8-6f54162c1e11",
   "metadata": {},
   "outputs": [
    {
     "name": "stdout",
     "output_type": "stream",
     "text": [
      "2002\n",
      "2006\n",
      "2010\n",
      "2014\n",
      "2018\n",
      "2022\n",
      "2026\n",
      "2030\n",
      "2034\n",
      "2038\n",
      "2042\n",
      "2046\n",
      "2050\n"
     ]
    }
   ],
   "source": [
    "# 162\n",
    "for i in range(2002, 2051):\n",
    "    if i % 4 == 2:\n",
    "        print(i)\n",
    "\n",
    "# for x in range(2002, 2051, 4) :\n",
    "#     print (x)\n"
   ]
  },
  {
   "cell_type": "code",
   "execution_count": 129,
   "id": "3396e88d-cd0f-4b1a-a7cb-9eb90a6e5f6a",
   "metadata": {},
   "outputs": [
    {
     "name": "stdout",
     "output_type": "stream",
     "text": [
      "3\n",
      "6\n",
      "9\n",
      "12\n",
      "15\n",
      "18\n",
      "21\n",
      "24\n",
      "27\n",
      "30\n"
     ]
    }
   ],
   "source": [
    "# 163\n",
    "for i in range(1, 31):\n",
    "    if i % 3 == 0:\n",
    "        print(i)"
   ]
  },
  {
   "cell_type": "code",
   "execution_count": 132,
   "id": "95bf67b3-eb9b-4e02-a6ed-e7a397527ba2",
   "metadata": {},
   "outputs": [
    {
     "name": "stdout",
     "output_type": "stream",
     "text": [
      "3\n",
      "6\n",
      "9\n",
      "12\n",
      "15\n",
      "18\n",
      "21\n",
      "24\n",
      "27\n",
      "30\n"
     ]
    }
   ],
   "source": [
    "# 163\n",
    "for i in range(3, 31, 3):\n",
    "    print(i)"
   ]
  },
  {
   "cell_type": "code",
   "execution_count": 134,
   "id": "8caf7c0f-e91c-4818-ba1d-db8ed199aafc",
   "metadata": {},
   "outputs": [
    {
     "name": "stdout",
     "output_type": "stream",
     "text": [
      "0.0\n",
      "0.1\n",
      "0.2\n",
      "0.30000000000000004\n",
      "0.4\n",
      "0.5\n",
      "0.6000000000000001\n",
      "0.7000000000000001\n",
      "0.8\n",
      "0.9\n",
      "0.0\n",
      "0.1\n",
      "0.2\n",
      "0.3\n",
      "0.4\n",
      "0.5\n",
      "0.6\n",
      "0.7\n",
      "0.8\n",
      "0.9\n"
     ]
    }
   ],
   "source": [
    "for i in range(10):\n",
    "    print(i * 0.1)\n",
    "\n",
    "for i in range(10):\n",
    "    print(i / 10)"
   ]
  },
  {
   "cell_type": "code",
   "execution_count": 136,
   "id": "f93d5468-6848-479d-8fe9-9ef43837b72b",
   "metadata": {},
   "outputs": [
    {
     "name": "stdout",
     "output_type": "stream",
     "text": [
      "3x 1\n",
      "3x 3\n",
      "3x 5\n",
      "3x 7\n",
      "3x 9\n"
     ]
    }
   ],
   "source": [
    "for i in range(1, 10, 2):\n",
    "    print('3x',i)"
   ]
  },
  {
   "cell_type": "code",
   "execution_count": 141,
   "id": "5d387ea5-684e-42cb-b4b3-2c46ad987c55",
   "metadata": {},
   "outputs": [
    {
     "name": "stdout",
     "output_type": "stream",
     "text": [
      "55\n"
     ]
    }
   ],
   "source": [
    "# 168\n",
    "sum = 0\n",
    "for i in range(1, 11):\n",
    "    sum += i\n",
    "print(sum)"
   ]
  },
  {
   "cell_type": "code",
   "execution_count": 143,
   "id": "664f5430-0b2e-4210-9792-4b9a75faf99d",
   "metadata": {},
   "outputs": [
    {
     "name": "stdout",
     "output_type": "stream",
     "text": [
      "25\n"
     ]
    }
   ],
   "source": [
    "# 169\n",
    "sum = 0\n",
    "for i in range(1, 11, 2):\n",
    "    sum += i\n",
    "print(sum)"
   ]
  },
  {
   "cell_type": "code",
   "execution_count": 146,
   "id": "2c6a8b16-c3bf-4953-bccf-22b17c838df8",
   "metadata": {},
   "outputs": [
    {
     "name": "stdout",
     "output_type": "stream",
     "text": [
      "3628800\n"
     ]
    }
   ],
   "source": [
    "# 170\n",
    "gob = 1\n",
    "for i in range(1, 11):\n",
    "    gob = gob * i\n",
    "print(gob)"
   ]
  },
  {
   "cell_type": "code",
   "execution_count": 148,
   "id": "79e4ebea-07d2-4a67-a393-031e1dad79f5",
   "metadata": {},
   "outputs": [
    {
     "name": "stdout",
     "output_type": "stream",
     "text": [
      "32100\n",
      "32150\n",
      "32000\n",
      "32500\n"
     ]
    }
   ],
   "source": [
    "# 171\n",
    "price_list = [32100, 32150, 32000, 32500]\n",
    "for num in range(len(price_list)):\n",
    "    print(price_list[num])"
   ]
  },
  {
   "cell_type": "code",
   "execution_count": 149,
   "id": "1fde4158-a482-4735-a5d7-705bbb657476",
   "metadata": {},
   "outputs": [
    {
     "name": "stdout",
     "output_type": "stream",
     "text": [
      "0 32100\n",
      "1 32150\n",
      "2 32000\n",
      "3 32500\n"
     ]
    }
   ],
   "source": [
    "# 172\n",
    "price_list = [32100, 32150, 32000, 32500]\n",
    "\n",
    "for i in range(len(price_list)):\n",
    "    print(i, price_list[i])"
   ]
  },
  {
   "cell_type": "code",
   "execution_count": 151,
   "id": "ec775268-5964-4343-a5da-67a5e48bd84e",
   "metadata": {},
   "outputs": [
    {
     "name": "stdout",
     "output_type": "stream",
     "text": [
      "0 32100\n",
      "1 32150\n",
      "2 32000\n",
      "3 32500\n"
     ]
    }
   ],
   "source": [
    "# 172\n",
    "price_list = [32100, 32150, 32000, 32500]\n",
    "\n",
    "for i, data in enumerate(price_list):\n",
    "    print(i, data)"
   ]
  },
  {
   "cell_type": "code",
   "execution_count": 157,
   "id": "49ad8f2f-51f3-4b12-8031-9f587122e2fe",
   "metadata": {},
   "outputs": [
    {
     "name": "stdout",
     "output_type": "stream",
     "text": [
      "3 32100\n",
      "2 32150\n",
      "1 32000\n",
      "0 32500\n"
     ]
    }
   ],
   "source": [
    "# 173\n",
    "price_list = [32100, 32150, 32000, 32500]\n",
    "\n",
    "for i in range(len(price_list)):\n",
    "    print((len(price_list)-1) - i, price_list[i])"
   ]
  },
  {
   "cell_type": "code",
   "execution_count": 159,
   "id": "2cf705c5-7dea-4659-9a61-2324e9944490",
   "metadata": {},
   "outputs": [
    {
     "name": "stdout",
     "output_type": "stream",
     "text": [
      "100 32150\n",
      "110 32000\n",
      "120 32500\n"
     ]
    }
   ],
   "source": [
    "# 174\n",
    "price_list = [32100, 32150, 32000, 32500]\n",
    "\n",
    "for i in range(1, len(price_list)):\n",
    "    print(90 + i*10, price_list[i])"
   ]
  },
  {
   "cell_type": "code",
   "execution_count": 161,
   "id": "d3537a41-33d0-495a-ab48-c7d081ec3cb6",
   "metadata": {},
   "outputs": [
    {
     "name": "stdout",
     "output_type": "stream",
     "text": [
      "가 나\n",
      "나 다\n",
      "다 라\n"
     ]
    }
   ],
   "source": [
    "# 175\n",
    "my_list = [\"가\", \"나\", \"다\", \"라\"]\n",
    "for i in range(len(my_list)-1):\n",
    "    print(my_list[i], my_list[i+1])"
   ]
  },
  {
   "cell_type": "code",
   "execution_count": 164,
   "id": "50f33831-98f5-4d97-a730-b9c89541ba51",
   "metadata": {},
   "outputs": [
    {
     "name": "stdout",
     "output_type": "stream",
     "text": [
      "가 나 다\n",
      "나 다 라\n",
      "다 라 마\n"
     ]
    }
   ],
   "source": [
    "# 176\n",
    "my_list = [\"가\", \"나\", \"다\", \"라\", '마']\n",
    "for i in range(len(my_list)-2):\n",
    "    print(my_list[i], my_list[i+1], my_list[i+2])"
   ]
  },
  {
   "cell_type": "code",
   "execution_count": 165,
   "id": "01dafc0c-ff53-4d81-8e2b-7494fe7f902a",
   "metadata": {},
   "outputs": [
    {
     "name": "stdout",
     "output_type": "stream",
     "text": [
      "라 다\n",
      "다 나\n",
      "나 가\n"
     ]
    }
   ],
   "source": [
    "# 177\n",
    "my_list = [\"가\", \"나\", \"다\", \"라\"]\n",
    "list_back = my_list[::-1]\n",
    "\n",
    "for i in range(len(list_back)-1):\n",
    "    print(list_back[i], list_back[i+1])"
   ]
  },
  {
   "cell_type": "code",
   "execution_count": 166,
   "id": "5c635111-29c6-4c6a-be8b-798eafae766f",
   "metadata": {},
   "outputs": [
    {
     "name": "stdout",
     "output_type": "stream",
     "text": [
      "100\n",
      "200\n",
      "400\n"
     ]
    }
   ],
   "source": [
    "# 178\n",
    "my_list = [100, 200, 400, 800]\n",
    "for i in range(1, len(my_list)):\n",
    "    print((my_list[i] - my_list[i-1]))\n",
    "    "
   ]
  },
  {
   "cell_type": "code",
   "execution_count": null,
   "id": "d159719d-842a-467e-8386-85d4ac2d96b7",
   "metadata": {},
   "outputs": [],
   "source": [
    "# 179\n",
    "my_list = [100, 200, 400, 800, 1000, 1300]\n",
    "for i in range(len(my_list)-"
   ]
  },
  {
   "cell_type": "code",
   "execution_count": 170,
   "id": "db3e0f57-0a4c-4d06-8206-5666d0e63d8d",
   "metadata": {},
   "outputs": [
    {
     "name": "stdout",
     "output_type": "stream",
     "text": [
      "50\n",
      "100\n",
      "30\n",
      "80\n",
      "0\n"
     ]
    }
   ],
   "source": [
    "# 180\n",
    "low_prices  = [100, 200, 400, 800, 1000]\n",
    "high_prices = [150, 300, 430, 880, 1000]\n",
    "\n",
    "for i in range(len(low_prices)):\n",
    "    for j in range(len(high_prices)):\n",
    "        if i == j:\n",
    "            print(high_prices[j] - low_prices[i])\n",
    "\n",
    "\n",
    "# volatility = []\n",
    "# for i in range(len(low_prices)) :\n",
    "#     volatility.append(high_prices[i] - low_prices[i])\n"
   ]
  },
  {
   "cell_type": "code",
   "execution_count": 171,
   "id": "ee8ed94f-4b25-4860-83ea-dfcf12acd515",
   "metadata": {},
   "outputs": [
    {
     "data": {
      "text/plain": [
       "[[101, 102], [201, 202], [301, 302]]"
      ]
     },
     "execution_count": 171,
     "metadata": {},
     "output_type": "execute_result"
    }
   ],
   "source": [
    "# 181\n",
    "apart = [[101, 102], [201, 202], [301, 302]]\n",
    "apart"
   ]
  },
  {
   "cell_type": "code",
   "execution_count": 173,
   "id": "c91fc2cc-42ed-44dc-a441-d8d0c5da3894",
   "metadata": {},
   "outputs": [],
   "source": [
    "#183\n",
    "stock = {'시가' : [100, 200, 300], '종가' : [80, 210, 330]}"
   ]
  },
  {
   "cell_type": "code",
   "execution_count": 174,
   "id": "229cf415-c311-4e5c-8410-ab2f1c46fc85",
   "metadata": {},
   "outputs": [],
   "source": [
    "# 184\n",
    "stock = {'10/10' : [80, 110, 70, 90], '10/11' : [210, 230, 190, 200]}\n"
   ]
  },
  {
   "cell_type": "code",
   "execution_count": 175,
   "id": "b9e738a8-8982-4f38-abb2-eed2969f6aa0",
   "metadata": {},
   "outputs": [
    {
     "name": "stdout",
     "output_type": "stream",
     "text": [
      "101 호\n",
      "102 호\n",
      "201 호\n",
      "202 호\n",
      "301 호\n",
      "302 호\n"
     ]
    }
   ],
   "source": [
    "apart = [ [101, 102], [201, 202], [301, 302] ]\n",
    "\n",
    "for list in apart:\n",
    "    for num in list:\n",
    "        print(num, '호')"
   ]
  },
  {
   "cell_type": "code",
   "execution_count": 176,
   "id": "3739ef92-d491-40cc-ba83-2a03dcee2f86",
   "metadata": {},
   "outputs": [
    {
     "name": "stdout",
     "output_type": "stream",
     "text": [
      "302 호\n",
      "301 호\n",
      "202 호\n",
      "201 호\n",
      "102 호\n",
      "101 호\n"
     ]
    }
   ],
   "source": [
    "# 187\n",
    "\n",
    "apart = [ [101, 102], [201, 202], [301, 302] ]\n",
    "for list in apart[::-1]:\n",
    "    for num in list[::-1]:\n",
    "        print(num, '호')"
   ]
  },
  {
   "cell_type": "code",
   "execution_count": 179,
   "id": "3f8270cd-34c2-4866-89f2-fa0b7cbaf4fa",
   "metadata": {},
   "outputs": [
    {
     "name": "stdout",
     "output_type": "stream",
     "text": [
      "101 호\n",
      "-----\n",
      "102 호\n",
      "-----\n",
      "201 호\n",
      "-----\n",
      "202 호\n",
      "-----\n",
      "301 호\n",
      "-----\n",
      "302 호\n",
      "-----\n"
     ]
    }
   ],
   "source": [
    "# 188\n",
    "apart = [ [101, 102], [201, 202], [301, 302] ]\n",
    "\n",
    "for list in apart:\n",
    "    for num in list:\n",
    "        print(num, '호')\n",
    "        print('-----')"
   ]
  },
  {
   "cell_type": "code",
   "execution_count": 181,
   "id": "993c1eee-4709-4ba3-9319-b6519c10bea6",
   "metadata": {},
   "outputs": [
    {
     "name": "stdout",
     "output_type": "stream",
     "text": [
      "101 호\n",
      "102 호\n",
      "-----\n",
      "201 호\n",
      "202 호\n",
      "-----\n",
      "301 호\n",
      "302 호\n",
      "-----\n"
     ]
    }
   ],
   "source": [
    "# 189\n",
    "apart = [ [101, 102], [201, 202], [301, 302] ]\n",
    "\n",
    "for list in apart:\n",
    "    for num in list:\n",
    "        print(num, '호')\n",
    "    print('-----')"
   ]
  },
  {
   "cell_type": "code",
   "execution_count": 182,
   "id": "edf75eec-80ed-422c-bae5-70562b1cfefc",
   "metadata": {},
   "outputs": [
    {
     "name": "stdout",
     "output_type": "stream",
     "text": [
      "101 호\n",
      "102 호\n",
      "201 호\n",
      "202 호\n",
      "301 호\n",
      "302 호\n",
      "-----\n"
     ]
    }
   ],
   "source": [
    "# 190\n",
    "apart = [ [101, 102], [201, 202], [301, 302] ]\n",
    "\n",
    "for list in apart:\n",
    "    for num in list:\n",
    "        print(num, '호')\n",
    "\n",
    "print('-----')"
   ]
  },
  {
   "cell_type": "code",
   "execution_count": 184,
   "id": "5c641a44-842a-4c67-8908-9a2e7bb34392",
   "metadata": {},
   "outputs": [
    {
     "name": "stdout",
     "output_type": "stream",
     "text": [
      "2000.28\n",
      "3050.427\n",
      "2050.2870000000003\n",
      "1980.2772\n",
      "7501.05\n",
      "2050.2870000000003\n",
      "2050.2870000000003\n",
      "1980.2772\n",
      "15452.163\n",
      "15052.107\n",
      "15552.177\n",
      "14902.086000000001\n"
     ]
    }
   ],
   "source": [
    "# 191\n",
    "data = [\n",
    "    [ 2000,  3050,  2050,  1980],\n",
    "    [ 7500,  2050,  2050,  1980],\n",
    "    [15450, 15050, 15550, 14900]\n",
    "]\n",
    "\n",
    "for row in data:\n",
    "    for col in row:\n",
    "        print(col * 1.00014)"
   ]
  },
  {
   "cell_type": "code",
   "execution_count": 185,
   "id": "2d7f5807-c046-4302-864a-7e2064d33d8a",
   "metadata": {},
   "outputs": [
    {
     "name": "stdout",
     "output_type": "stream",
     "text": [
      "2000.28\n",
      "3050.427\n",
      "2050.2870000000003\n",
      "1980.2772\n",
      "----\n",
      "7501.05\n",
      "2050.2870000000003\n",
      "2050.2870000000003\n",
      "1980.2772\n",
      "----\n",
      "15452.163\n",
      "15052.107\n",
      "15552.177\n",
      "14902.086000000001\n",
      "----\n"
     ]
    }
   ],
   "source": [
    "# 192\n",
    "# 191\n",
    "data = [\n",
    "    [ 2000,  3050,  2050,  1980],\n",
    "    [ 7500,  2050,  2050,  1980],\n",
    "    [15450, 15050, 15550, 14900]\n",
    "]\n",
    "\n",
    "for row in data:\n",
    "    for col in row:\n",
    "        print(col * 1.00014)\n",
    "    print('----')"
   ]
  },
  {
   "cell_type": "code",
   "execution_count": 188,
   "id": "ee4fbb00-c19e-43ba-a0e6-6ba1f1c6053c",
   "metadata": {},
   "outputs": [
    {
     "data": {
      "text/plain": [
       "[2000.28,\n",
       " 3050.427,\n",
       " 2050.2870000000003,\n",
       " 1980.2772,\n",
       " 7501.05,\n",
       " 2050.2870000000003,\n",
       " 2050.2870000000003,\n",
       " 1980.2772,\n",
       " 15452.163,\n",
       " 15052.107,\n",
       " 15552.177,\n",
       " 14902.086000000001]"
      ]
     },
     "execution_count": 188,
     "metadata": {},
     "output_type": "execute_result"
    }
   ],
   "source": [
    "# 193\n",
    "data = [\n",
    "    [ 2000,  3050,  2050,  1980],\n",
    "    [ 7500,  2050,  2050,  1980],\n",
    "    [15450, 15050, 15550, 14900]\n",
    "]\n",
    "result = []\n",
    "for row in data:\n",
    "    for col in row:\n",
    "        n = col * 1.00014\n",
    "        result.append(n)\n",
    "\n",
    "result"
   ]
  },
  {
   "cell_type": "code",
   "execution_count": 191,
   "id": "2435b518-a087-44c9-a66f-a90d741a999f",
   "metadata": {},
   "outputs": [
    {
     "data": {
      "text/plain": [
       "[[2000.28, 3050.427, 2050.2870000000003, 1980.2772],\n",
       " [7501.05, 2050.2870000000003, 2050.2870000000003, 1980.2772],\n",
       " [15452.163, 15052.107, 15552.177, 14902.086000000001]]"
      ]
     },
     "execution_count": 191,
     "metadata": {},
     "output_type": "execute_result"
    }
   ],
   "source": [
    "# 194\n",
    "data = [\n",
    "    [ 2000,  3050,  2050,  1980],\n",
    "    [ 7500,  2050,  2050,  1980],\n",
    "    [15450, 15050, 15550, 14900]\n",
    "]\n",
    "result = []\n",
    "for row in data:\n",
    "    pre_result = []\n",
    "    for col in row:\n",
    "        n = col * 1.00014\n",
    "        pre_result.append(n)\n",
    "        \n",
    "    result.append(pre_result)\n",
    "\n",
    "result"
   ]
  },
  {
   "cell_type": "code",
   "execution_count": 197,
   "id": "86aa7f97-7f19-4c30-b165-33c1ba23b468",
   "metadata": {},
   "outputs": [
    {
     "name": "stdout",
     "output_type": "stream",
     "text": [
      "100\n",
      "190\n",
      "310\n"
     ]
    }
   ],
   "source": [
    "# 195\n",
    "ohlc = [[\"open\", \"high\", \"low\", \"close\"],\n",
    "        [100, 110, 70, 100],\n",
    "        [200, 210, 180, 190],\n",
    "        [300, 310, 300, 310]]\n",
    "for num in ohlc[1::]:\n",
    "    print(num[-1])"
   ]
  },
  {
   "cell_type": "code",
   "execution_count": 199,
   "id": "4333d442-05e5-4bcf-a666-987ee59fcb29",
   "metadata": {},
   "outputs": [
    {
     "name": "stdout",
     "output_type": "stream",
     "text": [
      "190\n",
      "310\n"
     ]
    }
   ],
   "source": [
    "# 196\n",
    "ohlc = [[\"open\", \"high\", \"low\", \"close\"],\n",
    "        [100, 110, 70, 100],\n",
    "        [200, 210, 180, 190],\n",
    "        [300, 310, 300, 310]]\n",
    "\n",
    "for num in ohlc[1::]:\n",
    "    result = num[-1]\n",
    "    if result > 150:\n",
    "        print(result)"
   ]
  },
  {
   "cell_type": "code",
   "execution_count": 200,
   "id": "68a00220-3e5b-4d17-8e12-3327f30e5be2",
   "metadata": {},
   "outputs": [
    {
     "name": "stdout",
     "output_type": "stream",
     "text": [
      "100\n",
      "310\n"
     ]
    }
   ],
   "source": [
    "# 197\n",
    "ohlc = [[\"open\", \"high\", \"low\", \"close\"],\n",
    "        [100, 110, 70, 100],\n",
    "        [200, 210, 180, 190],\n",
    "        [300, 310, 300, 310]]\n",
    "\n",
    "for num in ohlc[1::]:\n",
    "    open = num[0]\n",
    "    close = num[-1]\n",
    "    if close >= open:\n",
    "        print(close)"
   ]
  },
  {
   "cell_type": "code",
   "execution_count": 205,
   "id": "56e03fe9-836f-475a-af05-ed6246caa002",
   "metadata": {},
   "outputs": [
    {
     "data": {
      "text/plain": [
       "[40, 30, 10]"
      ]
     },
     "execution_count": 205,
     "metadata": {},
     "output_type": "execute_result"
    }
   ],
   "source": [
    "# 198\n",
    "ohlc = [[\"open\", \"high\", \"low\", \"close\"],\n",
    "        [100, 110, 70, 100],\n",
    "        [200, 210, 180, 190],\n",
    "        [300, 310, 300, 310]]\n",
    "volatility = []\n",
    "for num in ohlc[1::]:\n",
    "    high, low = num[1], num[2]\n",
    "    gap = high - low\n",
    "    volatility.append(gap)\n",
    "\n",
    "volatility\n",
    "\n",
    "\n",
    "# volatility = []\n",
    "# for i in range(1, len(ohlc)):\n",
    "#     volatility.append(ohlc[i][1]-ohlc[i][2])\n",
    "# print(volatility)\n"
   ]
  },
  {
   "cell_type": "code",
   "execution_count": 207,
   "id": "73d95647-44a0-4647-825b-a13a499be625",
   "metadata": {},
   "outputs": [
    {
     "name": "stdout",
     "output_type": "stream",
     "text": [
      "10\n"
     ]
    }
   ],
   "source": [
    "# 199\n",
    "ohlc = [[\"open\", \"high\", \"low\", \"close\"],\n",
    "        [100, 110, 70, 100],\n",
    "        [200, 210, 180, 190],\n",
    "        [300, 310, 300, 310]]\n",
    "for num in ohlc[1::]:\n",
    "    open, high, low, close = num[0], num[1], num[2], num[3]\n",
    "    gap = high - low\n",
    "    if close > open:\n",
    "        print(gap)"
   ]
  },
  {
   "cell_type": "code",
   "execution_count": 209,
   "id": "284c75cd-6efe-4afa-adce-12fa7fa8afd1",
   "metadata": {},
   "outputs": [
    {
     "data": {
      "text/plain": [
       "0"
      ]
     },
     "execution_count": 209,
     "metadata": {},
     "output_type": "execute_result"
    }
   ],
   "source": [
    "# 200\n",
    "ohlc = [[\"open\", \"high\", \"low\", \"close\"],\n",
    "        [100, 110, 70, 100],\n",
    "        [200, 210, 180, 190],\n",
    "        [300, 310, 300, 310]]\n",
    "profit = 0\n",
    "for num in ohlc[1::]:\n",
    "    open, high, low, close = num[0], num[1], num[2], num[3]\n",
    "    money = close - open\n",
    "    profit += money\n",
    "profit"
   ]
  }
 ],
 "metadata": {
  "kernelspec": {
   "display_name": "Python 3 (ipykernel)",
   "language": "python",
   "name": "python3"
  },
  "language_info": {
   "codemirror_mode": {
    "name": "ipython",
    "version": 3
   },
   "file_extension": ".py",
   "mimetype": "text/x-python",
   "name": "python",
   "nbconvert_exporter": "python",
   "pygments_lexer": "ipython3",
   "version": "3.11.7"
  }
 },
 "nbformat": 4,
 "nbformat_minor": 5
}
