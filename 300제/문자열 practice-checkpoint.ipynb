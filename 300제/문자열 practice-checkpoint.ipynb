{
 "cells": [
  {
   "cell_type": "code",
   "execution_count": 1,
   "id": "d3a3335f-8a08-49e8-b4a6-7d69d82a0ecf",
   "metadata": {},
   "outputs": [
    {
     "name": "stdout",
     "output_type": "stream",
     "text": [
      "p t\n"
     ]
    }
   ],
   "source": [
    "# 021\n",
    "\n",
    "letters = 'python'\n",
    "print(letters[0], letters[2])"
   ]
  },
  {
   "cell_type": "code",
   "execution_count": 7,
   "id": "ac47cf2c-db40-452e-81f8-d6408041ddb6",
   "metadata": {},
   "outputs": [
    {
     "name": "stdout",
     "output_type": "stream",
     "text": [
      "2210\n"
     ]
    }
   ],
   "source": [
    "# 022\n",
    "\n",
    "license_plate = \"24가 2210\"\n",
    "\n",
    "print(license_plate[-4:])"
   ]
  },
  {
   "cell_type": "code",
   "execution_count": 13,
   "id": "bd985d7e-6610-4a95-bab6-89e317bacb01",
   "metadata": {},
   "outputs": [
    {
     "name": "stdout",
     "output_type": "stream",
     "text": [
      "홀홀홀\n"
     ]
    }
   ],
   "source": [
    "# 023\n",
    "\n",
    "# string = '홀짝홀짝홀짝'\n",
    "# result = ''\n",
    "# for char in string:\n",
    "#     if char == '홀':\n",
    "    \n",
    "#         result += char\n",
    "# print(result)\n",
    "\n",
    "\n",
    "string = '홀짝홀짝홀짝'\n",
    "print(string[::2])"
   ]
  },
  {
   "cell_type": "code",
   "execution_count": 16,
   "id": "0538f9bb-e564-4290-a7c2-9926b4c2bdc6",
   "metadata": {
    "scrolled": true
   },
   "outputs": [
    {
     "name": "stdout",
     "output_type": "stream",
     "text": [
      "nohtyp\n"
     ]
    }
   ],
   "source": [
    "# 024\n",
    "\n",
    "string = 'python'\n",
    "\n",
    "print(string[::-1])"
   ]
  },
  {
   "cell_type": "code",
   "execution_count": 18,
   "id": "9b281704-cdfb-4724-a96d-87f1da558660",
   "metadata": {},
   "outputs": [
    {
     "name": "stdout",
     "output_type": "stream",
     "text": [
      "010 1111 2222\n"
     ]
    }
   ],
   "source": [
    "# 025\n",
    "\n",
    "phone_number = '010-1111-2222'\n",
    "\n",
    "phone_num = phone_number.replace('-', ' ')\n",
    "\n",
    "print(phone_num)"
   ]
  },
  {
   "cell_type": "code",
   "execution_count": 19,
   "id": "87794447-6b3d-45a1-a2ef-87cf9925e532",
   "metadata": {},
   "outputs": [
    {
     "name": "stdout",
     "output_type": "stream",
     "text": [
      "01011112222\n"
     ]
    }
   ],
   "source": [
    "# 026\n",
    "\n",
    "phone = phone_num.replace(' ', '')\n",
    "print(phone)"
   ]
  },
  {
   "cell_type": "code",
   "execution_count": 23,
   "id": "7a800502-4e03-4531-be59-d8d8b980cfae",
   "metadata": {},
   "outputs": [
    {
     "name": "stdout",
     "output_type": "stream",
     "text": [
      "['http://sharebook', 'kr']\n",
      "kr\n"
     ]
    }
   ],
   "source": [
    "# 027\n",
    "\n",
    "url = 'http://sharebook.kr'\n",
    "\n",
    "# print(url[-2:])\n",
    "\n",
    "url_split = url.split('.')\n",
    "print(url_split)\n",
    "print(url_split[-1])"
   ]
  },
  {
   "cell_type": "code",
   "execution_count": 27,
   "id": "6a2d9e59-0fff-47e9-9d48-c5b2f17e8917",
   "metadata": {
    "scrolled": true
   },
   "outputs": [
    {
     "name": "stdout",
     "output_type": "stream",
     "text": [
      "Abcdfe2A354A32A\n"
     ]
    }
   ],
   "source": [
    "string = 'abcdfe2a354a32a'\n",
    "\n",
    "string_new = string.replace('a', 'A')\n",
    "print(string_new)\n",
    "        "
   ]
  },
  {
   "cell_type": "code",
   "execution_count": 28,
   "id": "7e40e73c-88f5-4358-893d-b8083bbfd674",
   "metadata": {},
   "outputs": [
    {
     "name": "stdout",
     "output_type": "stream",
     "text": [
      "python java python java python java python java \n"
     ]
    }
   ],
   "source": [
    "# 034\n",
    "\n",
    "t1 = 'python'\n",
    "t2 = 'java'\n",
    "\n",
    "t3 = t1 + ' ' + t2 + ' '\n",
    "t4 = t3 * 4\n",
    "print(t4)"
   ]
  },
  {
   "cell_type": "code",
   "execution_count": 29,
   "id": "3498ced4-e32a-4019-abf0-1056c147966c",
   "metadata": {},
   "outputs": [
    {
     "name": "stdout",
     "output_type": "stream",
     "text": [
      "name: minsu age: 10\n",
      "name: chulsoo age: 13\n"
     ]
    }
   ],
   "source": [
    "# 035 % formatting\n",
    "\n",
    "name1 = 'minsu'\n",
    "age1 = 10\n",
    "name2 = 'chulsoo'\n",
    "age2 = 13\n",
    "print('name: %s age: %d' % (name1, age1))\n",
    "print('name: %s age: %d' % (name2, age2))"
   ]
  },
  {
   "cell_type": "code",
   "execution_count": 31,
   "id": "bcf5469c-f266-4b61-a19c-21806bac6f0c",
   "metadata": {},
   "outputs": [
    {
     "name": "stdout",
     "output_type": "stream",
     "text": [
      "name: minsu age: 10\n",
      "name: minsu age: 13\n"
     ]
    }
   ],
   "source": [
    "# 036\n",
    "\n",
    "name1 = 'minsu'\n",
    "age1 = 10\n",
    "name2 = 'chulsoo'\n",
    "age2 = 13\n",
    "print('name: {} age: {}'.format(name1, age1))\n",
    "print('name: {} age: {}'.format(name1, age2))"
   ]
  },
  {
   "cell_type": "code",
   "execution_count": 33,
   "id": "88daad22-8a58-441d-b098-0614b6d3544b",
   "metadata": {},
   "outputs": [
    {
     "name": "stdout",
     "output_type": "stream",
     "text": [
      "name: minsu age: 10\n"
     ]
    }
   ],
   "source": [
    "# 037\n",
    "print(f'name: {name1} age: {age1}')"
   ]
  },
  {
   "cell_type": "code",
   "execution_count": 34,
   "id": "fc801baf-4ab4-4f2b-b4b8-e7a678d5d592",
   "metadata": {},
   "outputs": [
    {
     "name": "stdout",
     "output_type": "stream",
     "text": [
      "5969782550\n"
     ]
    }
   ],
   "source": [
    "# 038\n",
    "\n",
    "number = \"5,969,782,550\"\n",
    "new = int(number.replace(',', ''))\n",
    "print(new)"
   ]
  },
  {
   "cell_type": "code",
   "execution_count": 35,
   "id": "66d59216-3dba-4620-8f75-0b324ea5072b",
   "metadata": {
    "scrolled": true
   },
   "outputs": [
    {
     "name": "stdout",
     "output_type": "stream",
     "text": [
      "2020/03\n"
     ]
    }
   ],
   "source": [
    "# 039\n",
    "\n",
    "chars = \"2020/03(E) (IFRS연결)\"\n",
    "\n",
    "char = chars.split('(')\n",
    "print(char[0])"
   ]
  },
  {
   "cell_type": "code",
   "execution_count": 37,
   "id": "15f111f6-22d5-41db-a392-892dadae66a4",
   "metadata": {},
   "outputs": [
    {
     "name": "stdout",
     "output_type": "stream",
     "text": [
      "삼성전자\n"
     ]
    }
   ],
   "source": [
    "# 040 strip\n",
    "\n",
    "data = \"   삼성전자    \"\n",
    "# data1 = data.replace(' ','')\n",
    "# print(data1)\n",
    "print(data.strip())"
   ]
  },
  {
   "cell_type": "code",
   "execution_count": 38,
   "id": "a7421764-2bca-4578-82f6-f046788c9b86",
   "metadata": {},
   "outputs": [
    {
     "name": "stdout",
     "output_type": "stream",
     "text": [
      "BTC_KRW\n"
     ]
    }
   ],
   "source": [
    "# 041\n",
    "\n",
    "ticker = \"btc_krw\"\n",
    "print(ticker.upper())"
   ]
  },
  {
   "cell_type": "code",
   "execution_count": 39,
   "id": "c19d03ed-0405-48a5-b20c-601b226ada32",
   "metadata": {},
   "outputs": [
    {
     "name": "stdout",
     "output_type": "stream",
     "text": [
      "True\n"
     ]
    }
   ],
   "source": [
    "# 044 endswith\n",
    "\n",
    "file_name = \"보고서.xlsx\"\n",
    "print(file_name.endswith('xlsx'))"
   ]
  },
  {
   "cell_type": "code",
   "execution_count": 44,
   "id": "d557d0c4-e093-4a61-bb03-3ec4c3affb6b",
   "metadata": {},
   "outputs": [
    {
     "name": "stdout",
     "output_type": "stream",
     "text": [
      "True\n"
     ]
    }
   ],
   "source": [
    "# 045\n",
    "print(file_name.endswith(('xls', 'xlsx')))"
   ]
  }
 ],
 "metadata": {
  "kernelspec": {
   "display_name": "Python 3 (ipykernel)",
   "language": "python",
   "name": "python3"
  },
  "language_info": {
   "codemirror_mode": {
    "name": "ipython",
    "version": 3
   },
   "file_extension": ".py",
   "mimetype": "text/x-python",
   "name": "python",
   "nbconvert_exporter": "python",
   "pygments_lexer": "ipython3",
   "version": "3.11.7"
  }
 },
 "nbformat": 4,
 "nbformat_minor": 5
}
